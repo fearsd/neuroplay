{
 "cells": [
  {
   "cell_type": "markdown",
   "metadata": {
    "id": "BO7MEGbb6mtB"
   },
   "source": [
    "# Finetune RuGPTs in huggingface\n",
    "How to finetune RuGPTs models with huggingface. Example for RuGPT3Small. Nfor other models it will take more GPU memory.\n",
    "\n",
    "This notebook is valid for all RuGPTs models except RuGPT3XL.\n",
    "## Install env"
   ]
  },
  {
   "cell_type": "code",
   "execution_count": 4,
   "metadata": {
    "colab": {
     "base_uri": "https://localhost:8080/"
    },
    "id": "22qKsT3KpKFv",
    "outputId": "018dfc06-110f-4e9f-abb1-30f10370e8a6"
   },
   "outputs": [],
   "source": [
    "'''\n",
    "import getpass\n",
    "import os\n",
    "\n",
    "password = getpass.getpass()\n",
    "command = \"sudo rm -S -rf /usr/local/cuda \" \n",
    "os.popen(command, 'w').write(password+'\\n')\n",
    "\n",
    "command = \"sudo ln -S /usr/local/cuda-10.1 /usr/local/cuda\" \n",
    "os.popen(command, 'w').write(password+'\\n')\n",
    "'''\n",
    "!sudo rm -rf /usr/local/cuda\n",
    "!sudo ln -s /usr/local/cuda-10.1 /usr/local/cuda"
   ]
  },
  {
   "cell_type": "code",
   "execution_count": 5,
   "metadata": {
    "id": "VAHq-7ZdpW5N"
   },
   "outputs": [],
   "source": [
    "%%bash\n",
    "export LD_LIBRARY_PATH=/usr/lib/"
   ]
  },
  {
   "cell_type": "code",
   "execution_count": 5,
   "metadata": {
    "colab": {
     "base_uri": "https://localhost:8080/"
    },
    "id": "ORYJEnvKpXId",
    "outputId": "ca8a4795-9c65-4024-b583-d262bffb7685"
   },
   "outputs": [
    {
     "name": "stdout",
     "output_type": "stream",
     "text": [
      "Reading package lists... Done\n",
      "Building dependency tree       \n",
      "Reading state information... Done\n",
      "The following additional packages will be installed:\n",
      "  binfmt-support binutils binutils-common binutils-x86-64-linux-gnu\n",
      "  lib32gcc-s1 lib32stdc++6 libasan5 libatomic1 libbinutils libc-dev-bin libc6\n",
      "  libc6-dev libc6-i386 libclang-common-9-dev libclang-cpp9 libcrypt-dev\n",
      "  libctf-nobfd0 libctf0 libffi-dev libgc1c2 libgcc-9-dev libgomp1 libitm1\n",
      "  libllvm9 liblsan0 libncurses-dev libobjc-9-dev libobjc4 libomp-9-dev\n",
      "  libomp5-9 libpfm4 libquadmath0 libstdc++-9-dev libtinfo-dev libtsan0\n",
      "  libubsan1 libz3-4 libz3-dev linux-libc-dev llvm-9-runtime manpages-dev\n",
      "  python3-pygments\n",
      "Suggested packages:\n",
      "  binutils-doc clang-9-doc glibc-doc ncurses-doc libomp-9-doc libstdc++-9-doc\n",
      "  llvm-9-doc python-pygments-doc ttf-bitstream-vera\n",
      "The following NEW packages will be installed:\n",
      "  binfmt-support binutils binutils-common binutils-x86-64-linux-gnu clang-9\n",
      "  lib32gcc-s1 lib32stdc++6 libasan5 libatomic1 libbinutils libc-dev-bin\n",
      "  libc6-dev libc6-i386 libclang-common-9-dev libclang-cpp9 libcrypt-dev\n",
      "  libctf-nobfd0 libctf0 libffi-dev libgc1c2 libgcc-9-dev libgomp1 libitm1\n",
      "  libllvm9 liblsan0 libncurses-dev libobjc-9-dev libobjc4 libomp-9-dev\n",
      "  libomp5-9 libpfm4 libquadmath0 libstdc++-9-dev libtinfo-dev libtsan0\n",
      "  libubsan1 libz3-4 libz3-dev linux-libc-dev llvm-9 llvm-9-dev llvm-9-runtime\n",
      "  llvm-9-tools manpages-dev python3-pygments\n",
      "The following packages will be upgraded:\n",
      "  libc6\n",
      "1 upgraded, 45 newly installed, 0 to remove and 144 not upgraded.\n",
      "Need to get 93.2 MB of archives.\n",
      "After this operation, 539 MB of additional disk space will be used.\n",
      "Get:1 http://archive.ubuntu.com/ubuntu focal-updates/main amd64 libc6 amd64 2.31-0ubuntu9.9 [2722 kB]\n",
      "Get:2 http://archive.ubuntu.com/ubuntu focal/universe amd64 binfmt-support amd64 2.2.0-2 [58.2 kB]\n",
      "Get:3 http://archive.ubuntu.com/ubuntu focal-updates/main amd64 binutils-common amd64 2.34-6ubuntu1.3 [207 kB]\n",
      "Get:4 http://archive.ubuntu.com/ubuntu focal-updates/main amd64 libbinutils amd64 2.34-6ubuntu1.3 [474 kB]\n",
      "Get:5 http://archive.ubuntu.com/ubuntu focal-updates/main amd64 libctf-nobfd0 amd64 2.34-6ubuntu1.3 [47.4 kB]\n",
      "Get:6 http://archive.ubuntu.com/ubuntu focal-updates/main amd64 libctf0 amd64 2.34-6ubuntu1.3 [46.6 kB]\n",
      "Get:7 http://archive.ubuntu.com/ubuntu focal-updates/main amd64 binutils-x86-64-linux-gnu amd64 2.34-6ubuntu1.3 [1613 kB]\n",
      "Get:8 http://archive.ubuntu.com/ubuntu focal-updates/main amd64 binutils amd64 2.34-6ubuntu1.3 [3380 B]\n",
      "Get:9 http://archive.ubuntu.com/ubuntu focal/main amd64 libllvm9 amd64 1:9.0.1-12 [14.8 MB]\n",
      "Get:10 http://archive.ubuntu.com/ubuntu focal/universe amd64 libclang-cpp9 amd64 1:9.0.1-12 [8341 kB]\n",
      "Get:11 http://archive.ubuntu.com/ubuntu focal-updates/main amd64 libgomp1 amd64 10.3.0-1ubuntu1~20.04 [102 kB]\n",
      "Get:12 http://archive.ubuntu.com/ubuntu focal-updates/main amd64 libitm1 amd64 10.3.0-1ubuntu1~20.04 [26.2 kB]\n",
      "Get:13 http://archive.ubuntu.com/ubuntu focal-updates/main amd64 libatomic1 amd64 10.3.0-1ubuntu1~20.04 [9284 B]\n",
      "Get:14 http://archive.ubuntu.com/ubuntu focal-updates/main amd64 libasan5 amd64 9.4.0-1ubuntu1~20.04.1 [2751 kB]\n",
      "Get:15 http://archive.ubuntu.com/ubuntu focal-updates/main amd64 liblsan0 amd64 10.3.0-1ubuntu1~20.04 [835 kB]\n",
      "Get:16 http://archive.ubuntu.com/ubuntu focal-updates/main amd64 libtsan0 amd64 10.3.0-1ubuntu1~20.04 [2009 kB]\n",
      "Get:17 http://archive.ubuntu.com/ubuntu focal-updates/main amd64 libubsan1 amd64 10.3.0-1ubuntu1~20.04 [784 kB]\n",
      "Get:18 http://archive.ubuntu.com/ubuntu focal-updates/main amd64 libquadmath0 amd64 10.3.0-1ubuntu1~20.04 [146 kB]\n",
      "Get:19 http://archive.ubuntu.com/ubuntu focal-updates/main amd64 libgcc-9-dev amd64 9.4.0-1ubuntu1~20.04.1 [2359 kB]\n",
      "Get:20 http://archive.ubuntu.com/ubuntu focal-updates/main amd64 libc-dev-bin amd64 2.31-0ubuntu9.9 [71.8 kB]\n",
      "Get:21 http://archive.ubuntu.com/ubuntu focal-updates/main amd64 linux-libc-dev amd64 5.4.0-126.142 [1118 kB]\n",
      "Get:22 http://archive.ubuntu.com/ubuntu focal/main amd64 libcrypt-dev amd64 1:4.4.10-10ubuntu4 [104 kB]\n",
      "Get:23 http://archive.ubuntu.com/ubuntu focal-updates/main amd64 libc6-dev amd64 2.31-0ubuntu9.9 [2519 kB]\n",
      "Get:24 http://archive.ubuntu.com/ubuntu focal-updates/main amd64 libstdc++-9-dev amd64 9.4.0-1ubuntu1~20.04.1 [1722 kB]\n",
      "Get:25 http://archive.ubuntu.com/ubuntu focal/main amd64 libgc1c2 amd64 1:7.6.4-0.4ubuntu1 [83.9 kB]\n",
      "Get:26 http://archive.ubuntu.com/ubuntu focal-updates/universe amd64 libobjc4 amd64 10.3.0-1ubuntu1~20.04 [42.8 kB]\n",
      "Get:27 http://archive.ubuntu.com/ubuntu focal-updates/universe amd64 libobjc-9-dev amd64 9.4.0-1ubuntu1~20.04.1 [225 kB]\n",
      "Get:28 http://archive.ubuntu.com/ubuntu focal-updates/main amd64 libc6-i386 amd64 2.31-0ubuntu9.9 [2730 kB]\n",
      "Get:29 http://archive.ubuntu.com/ubuntu focal-updates/main amd64 lib32gcc-s1 amd64 10.3.0-1ubuntu1~20.04 [49.2 kB]\n",
      "Get:30 http://archive.ubuntu.com/ubuntu focal-updates/main amd64 lib32stdc++6 amd64 10.3.0-1ubuntu1~20.04 [525 kB]\n",
      "Get:31 http://archive.ubuntu.com/ubuntu focal/universe amd64 libclang-common-9-dev amd64 1:9.0.1-12 [3687 kB]\n",
      "Get:32 http://archive.ubuntu.com/ubuntu focal/universe amd64 clang-9 amd64 1:9.0.1-12 [1122 kB]\n",
      "Get:33 http://archive.ubuntu.com/ubuntu focal/main amd64 libncurses-dev amd64 6.2-0ubuntu2 [339 kB]\n",
      "Get:34 http://archive.ubuntu.com/ubuntu focal/universe amd64 libomp5-9 amd64 1:9.0.1-12 [301 kB]\n",
      "Get:35 http://archive.ubuntu.com/ubuntu focal/universe amd64 libomp-9-dev amd64 1:9.0.1-12 [32.5 kB]\n",
      "Get:36 http://archive.ubuntu.com/ubuntu focal/main amd64 libtinfo-dev amd64 6.2-0ubuntu2 [968 B]\n",
      "Get:37 http://archive.ubuntu.com/ubuntu focal/universe amd64 llvm-9-runtime amd64 1:9.0.1-12 [178 kB]\n",
      "Get:38 http://archive.ubuntu.com/ubuntu focal/main amd64 libpfm4 amd64 4.10.1+git20-g7700f49-2 [266 kB]\n",
      "Get:39 http://archive.ubuntu.com/ubuntu focal/universe amd64 llvm-9 amd64 1:9.0.1-12 [4816 kB]\n",
      "Get:40 http://archive.ubuntu.com/ubuntu focal/main amd64 libffi-dev amd64 3.3-4 [57.0 kB]\n",
      "Get:41 http://archive.ubuntu.com/ubuntu focal-updates/main amd64 python3-pygments all 2.3.1+dfsg-1ubuntu2.2 [579 kB]\n",
      "Get:42 http://archive.ubuntu.com/ubuntu focal/universe amd64 llvm-9-tools amd64 1:9.0.1-12 [296 kB]\n",
      "Get:43 http://archive.ubuntu.com/ubuntu focal/universe amd64 libz3-4 amd64 4.8.7-4build1 [6792 kB]\n",
      "Get:44 http://archive.ubuntu.com/ubuntu focal/universe amd64 libz3-dev amd64 4.8.7-4build1 [67.5 kB]\n",
      "Get:45 http://archive.ubuntu.com/ubuntu focal/universe amd64 llvm-9-dev amd64 1:9.0.1-12 [25.9 MB]\n",
      "Get:46 http://archive.ubuntu.com/ubuntu focal/main amd64 manpages-dev all 5.05-1 [2266 kB]\n",
      "Fetched 93.2 MB in 4min 37s (336 kB/s)                                         \n",
      "Extracting templates from packages: 100%\n",
      "Preconfiguring packages ...\n",
      "(Reading database ... 34139 files and directories currently installed.)\n",
      "Preparing to unpack .../libc6_2.31-0ubuntu9.9_amd64.deb ...\n",
      "Unpacking libc6:amd64 (2.31-0ubuntu9.9) over (2.31-0ubuntu9.7) ...\n",
      "Setting up libc6:amd64 (2.31-0ubuntu9.9) ...\n",
      "Selecting previously unselected package binfmt-support.\n",
      "(Reading database ... 34139 files and directories currently installed.)\n",
      "Preparing to unpack .../00-binfmt-support_2.2.0-2_amd64.deb ...\n",
      "Unpacking binfmt-support (2.2.0-2) ...\n",
      "Selecting previously unselected package binutils-common:amd64.\n",
      "Preparing to unpack .../01-binutils-common_2.34-6ubuntu1.3_amd64.deb ...\n",
      "Unpacking binutils-common:amd64 (2.34-6ubuntu1.3) ...\n",
      "Selecting previously unselected package libbinutils:amd64.\n",
      "Preparing to unpack .../02-libbinutils_2.34-6ubuntu1.3_amd64.deb ...\n",
      "Unpacking libbinutils:amd64 (2.34-6ubuntu1.3) ...\n",
      "Selecting previously unselected package libctf-nobfd0:amd64.\n",
      "Preparing to unpack .../03-libctf-nobfd0_2.34-6ubuntu1.3_amd64.deb ...\n",
      "Unpacking libctf-nobfd0:amd64 (2.34-6ubuntu1.3) ...\n",
      "Selecting previously unselected package libctf0:amd64.\n",
      "Preparing to unpack .../04-libctf0_2.34-6ubuntu1.3_amd64.deb ...\n",
      "Unpacking libctf0:amd64 (2.34-6ubuntu1.3) ...\n",
      "Selecting previously unselected package binutils-x86-64-linux-gnu.\n",
      "Preparing to unpack .../05-binutils-x86-64-linux-gnu_2.34-6ubuntu1.3_amd64.deb ...\n",
      "Unpacking binutils-x86-64-linux-gnu (2.34-6ubuntu1.3) ...\n",
      "Selecting previously unselected package binutils.\n",
      "Preparing to unpack .../06-binutils_2.34-6ubuntu1.3_amd64.deb ...\n",
      "Unpacking binutils (2.34-6ubuntu1.3) ...\n",
      "Selecting previously unselected package libllvm9:amd64.\n",
      "Preparing to unpack .../07-libllvm9_1%3a9.0.1-12_amd64.deb ...\n",
      "Unpacking libllvm9:amd64 (1:9.0.1-12) ...\n",
      "Selecting previously unselected package libclang-cpp9.\n",
      "Preparing to unpack .../08-libclang-cpp9_1%3a9.0.1-12_amd64.deb ...\n",
      "Unpacking libclang-cpp9 (1:9.0.1-12) ...\n",
      "Selecting previously unselected package libgomp1:amd64.\n",
      "Preparing to unpack .../09-libgomp1_10.3.0-1ubuntu1~20.04_amd64.deb ...\n",
      "Unpacking libgomp1:amd64 (10.3.0-1ubuntu1~20.04) ...\n",
      "Selecting previously unselected package libitm1:amd64.\n",
      "Preparing to unpack .../10-libitm1_10.3.0-1ubuntu1~20.04_amd64.deb ...\n",
      "Unpacking libitm1:amd64 (10.3.0-1ubuntu1~20.04) ...\n",
      "Selecting previously unselected package libatomic1:amd64.\n",
      "Preparing to unpack .../11-libatomic1_10.3.0-1ubuntu1~20.04_amd64.deb ...\n",
      "Unpacking libatomic1:amd64 (10.3.0-1ubuntu1~20.04) ...\n",
      "Selecting previously unselected package libasan5:amd64.\n",
      "Preparing to unpack .../12-libasan5_9.4.0-1ubuntu1~20.04.1_amd64.deb ...\n",
      "Unpacking libasan5:amd64 (9.4.0-1ubuntu1~20.04.1) ...\n",
      "Selecting previously unselected package liblsan0:amd64.\n",
      "Preparing to unpack .../13-liblsan0_10.3.0-1ubuntu1~20.04_amd64.deb ...\n",
      "Unpacking liblsan0:amd64 (10.3.0-1ubuntu1~20.04) ...\n",
      "Selecting previously unselected package libtsan0:amd64.\n",
      "Preparing to unpack .../14-libtsan0_10.3.0-1ubuntu1~20.04_amd64.deb ...\n",
      "Unpacking libtsan0:amd64 (10.3.0-1ubuntu1~20.04) ...\n",
      "Selecting previously unselected package libubsan1:amd64.\n",
      "Preparing to unpack .../15-libubsan1_10.3.0-1ubuntu1~20.04_amd64.deb ...\n",
      "Unpacking libubsan1:amd64 (10.3.0-1ubuntu1~20.04) ...\n",
      "Selecting previously unselected package libquadmath0:amd64.\n",
      "Preparing to unpack .../16-libquadmath0_10.3.0-1ubuntu1~20.04_amd64.deb ...\n",
      "Unpacking libquadmath0:amd64 (10.3.0-1ubuntu1~20.04) ...\n",
      "Selecting previously unselected package libgcc-9-dev:amd64.\n",
      "Preparing to unpack .../17-libgcc-9-dev_9.4.0-1ubuntu1~20.04.1_amd64.deb ...\n",
      "Unpacking libgcc-9-dev:amd64 (9.4.0-1ubuntu1~20.04.1) ...\n",
      "Selecting previously unselected package libc-dev-bin.\n",
      "Preparing to unpack .../18-libc-dev-bin_2.31-0ubuntu9.9_amd64.deb ...\n",
      "Unpacking libc-dev-bin (2.31-0ubuntu9.9) ...\n",
      "Selecting previously unselected package linux-libc-dev:amd64.\n",
      "Preparing to unpack .../19-linux-libc-dev_5.4.0-126.142_amd64.deb ...\n",
      "Unpacking linux-libc-dev:amd64 (5.4.0-126.142) ...\n",
      "Selecting previously unselected package libcrypt-dev:amd64.\n",
      "Preparing to unpack .../20-libcrypt-dev_1%3a4.4.10-10ubuntu4_amd64.deb ...\n",
      "Unpacking libcrypt-dev:amd64 (1:4.4.10-10ubuntu4) ...\n",
      "Selecting previously unselected package libc6-dev:amd64.\n",
      "Preparing to unpack .../21-libc6-dev_2.31-0ubuntu9.9_amd64.deb ...\n",
      "Unpacking libc6-dev:amd64 (2.31-0ubuntu9.9) ...\n",
      "Selecting previously unselected package libstdc++-9-dev:amd64.\n",
      "Preparing to unpack .../22-libstdc++-9-dev_9.4.0-1ubuntu1~20.04.1_amd64.deb ...\n",
      "Unpacking libstdc++-9-dev:amd64 (9.4.0-1ubuntu1~20.04.1) ...\n",
      "Selecting previously unselected package libgc1c2:amd64.\n",
      "Preparing to unpack .../23-libgc1c2_1%3a7.6.4-0.4ubuntu1_amd64.deb ...\n",
      "Unpacking libgc1c2:amd64 (1:7.6.4-0.4ubuntu1) ...\n",
      "Selecting previously unselected package libobjc4:amd64.\n",
      "Preparing to unpack .../24-libobjc4_10.3.0-1ubuntu1~20.04_amd64.deb ...\n",
      "Unpacking libobjc4:amd64 (10.3.0-1ubuntu1~20.04) ...\n",
      "Selecting previously unselected package libobjc-9-dev:amd64.\n",
      "Preparing to unpack .../25-libobjc-9-dev_9.4.0-1ubuntu1~20.04.1_amd64.deb ...\n",
      "Unpacking libobjc-9-dev:amd64 (9.4.0-1ubuntu1~20.04.1) ...\n",
      "Selecting previously unselected package libc6-i386.\n",
      "Preparing to unpack .../26-libc6-i386_2.31-0ubuntu9.9_amd64.deb ...\n",
      "Unpacking libc6-i386 (2.31-0ubuntu9.9) ...\n",
      "Selecting previously unselected package lib32gcc-s1.\n",
      "Preparing to unpack .../27-lib32gcc-s1_10.3.0-1ubuntu1~20.04_amd64.deb ...\n",
      "Unpacking lib32gcc-s1 (10.3.0-1ubuntu1~20.04) ...\n",
      "Selecting previously unselected package lib32stdc++6.\n",
      "Preparing to unpack .../28-lib32stdc++6_10.3.0-1ubuntu1~20.04_amd64.deb ...\n",
      "Unpacking lib32stdc++6 (10.3.0-1ubuntu1~20.04) ...\n",
      "Selecting previously unselected package libclang-common-9-dev.\n",
      "Preparing to unpack .../29-libclang-common-9-dev_1%3a9.0.1-12_amd64.deb ...\n",
      "Unpacking libclang-common-9-dev (1:9.0.1-12) ...\n",
      "Selecting previously unselected package clang-9.\n",
      "Preparing to unpack .../30-clang-9_1%3a9.0.1-12_amd64.deb ...\n",
      "Unpacking clang-9 (1:9.0.1-12) ...\n",
      "Selecting previously unselected package libncurses-dev:amd64.\n",
      "Preparing to unpack .../31-libncurses-dev_6.2-0ubuntu2_amd64.deb ...\n",
      "Unpacking libncurses-dev:amd64 (6.2-0ubuntu2) ...\n",
      "Selecting previously unselected package libomp5-9:amd64.\n",
      "Preparing to unpack .../32-libomp5-9_1%3a9.0.1-12_amd64.deb ...\n",
      "Unpacking libomp5-9:amd64 (1:9.0.1-12) ...\n",
      "Selecting previously unselected package libomp-9-dev.\n",
      "Preparing to unpack .../33-libomp-9-dev_1%3a9.0.1-12_amd64.deb ...\n",
      "Unpacking libomp-9-dev (1:9.0.1-12) ...\n",
      "Selecting previously unselected package libtinfo-dev:amd64.\n",
      "Preparing to unpack .../34-libtinfo-dev_6.2-0ubuntu2_amd64.deb ...\n",
      "Unpacking libtinfo-dev:amd64 (6.2-0ubuntu2) ...\n",
      "Selecting previously unselected package llvm-9-runtime.\n",
      "Preparing to unpack .../35-llvm-9-runtime_1%3a9.0.1-12_amd64.deb ...\n",
      "Unpacking llvm-9-runtime (1:9.0.1-12) ...\n",
      "Selecting previously unselected package libpfm4:amd64.\n",
      "Preparing to unpack .../36-libpfm4_4.10.1+git20-g7700f49-2_amd64.deb ...\n",
      "Unpacking libpfm4:amd64 (4.10.1+git20-g7700f49-2) ...\n",
      "Selecting previously unselected package llvm-9.\n",
      "Preparing to unpack .../37-llvm-9_1%3a9.0.1-12_amd64.deb ...\n",
      "Unpacking llvm-9 (1:9.0.1-12) ...\n",
      "Selecting previously unselected package libffi-dev:amd64.\n",
      "Preparing to unpack .../38-libffi-dev_3.3-4_amd64.deb ...\n",
      "Unpacking libffi-dev:amd64 (3.3-4) ...\n",
      "Selecting previously unselected package python3-pygments.\n",
      "Preparing to unpack .../39-python3-pygments_2.3.1+dfsg-1ubuntu2.2_all.deb ...\n",
      "Unpacking python3-pygments (2.3.1+dfsg-1ubuntu2.2) ...\n",
      "Selecting previously unselected package llvm-9-tools.\n",
      "Preparing to unpack .../40-llvm-9-tools_1%3a9.0.1-12_amd64.deb ...\n",
      "Unpacking llvm-9-tools (1:9.0.1-12) ...\n",
      "Selecting previously unselected package libz3-4:amd64.\n",
      "Preparing to unpack .../41-libz3-4_4.8.7-4build1_amd64.deb ...\n",
      "Unpacking libz3-4:amd64 (4.8.7-4build1) ...\n",
      "Selecting previously unselected package libz3-dev:amd64.\n",
      "Preparing to unpack .../42-libz3-dev_4.8.7-4build1_amd64.deb ...\n",
      "Unpacking libz3-dev:amd64 (4.8.7-4build1) ...\n",
      "Selecting previously unselected package llvm-9-dev.\n",
      "Preparing to unpack .../43-llvm-9-dev_1%3a9.0.1-12_amd64.deb ...\n",
      "Unpacking llvm-9-dev (1:9.0.1-12) ...\n",
      "Selecting previously unselected package manpages-dev.\n",
      "Preparing to unpack .../44-manpages-dev_5.05-1_all.deb ...\n",
      "Unpacking manpages-dev (5.05-1) ...\n",
      "Setting up manpages-dev (5.05-1) ...\n",
      "Setting up libgc1c2:amd64 (1:7.6.4-0.4ubuntu1) ...\n",
      "Setting up binutils-common:amd64 (2.34-6ubuntu1.3) ...\n",
      "Setting up linux-libc-dev:amd64 (5.4.0-126.142) ...\n",
      "Setting up libctf-nobfd0:amd64 (2.34-6ubuntu1.3) ...\n",
      "Setting up libobjc4:amd64 (10.3.0-1ubuntu1~20.04) ...\n",
      "Setting up libgomp1:amd64 (10.3.0-1ubuntu1~20.04) ...\n",
      "Setting up libffi-dev:amd64 (3.3-4) ...\n",
      "Setting up libasan5:amd64 (9.4.0-1ubuntu1~20.04.1) ...\n",
      "Setting up python3-pygments (2.3.1+dfsg-1ubuntu2.2) ...\n",
      "Setting up libz3-4:amd64 (4.8.7-4build1) ...\n",
      "Setting up libpfm4:amd64 (4.10.1+git20-g7700f49-2) ...\n",
      "Setting up libquadmath0:amd64 (10.3.0-1ubuntu1~20.04) ...\n",
      "Setting up libatomic1:amd64 (10.3.0-1ubuntu1~20.04) ...\n",
      "Setting up binfmt-support (2.2.0-2) ...\n",
      "Created symlink /etc/systemd/system/multi-user.target.wants/binfmt-support.service → /lib/systemd/system/binfmt-support.service.\n",
      "invoke-rc.d: could not determine current runlevel\n",
      "Setting up libubsan1:amd64 (10.3.0-1ubuntu1~20.04) ...\n",
      "Setting up libcrypt-dev:amd64 (1:4.4.10-10ubuntu4) ...\n",
      "Setting up libc6-i386 (2.31-0ubuntu9.9) ...\n",
      "Setting up libbinutils:amd64 (2.34-6ubuntu1.3) ...\n",
      "Setting up libc-dev-bin (2.31-0ubuntu9.9) ...\n",
      "Setting up libllvm9:amd64 (1:9.0.1-12) ...\n",
      "Setting up liblsan0:amd64 (10.3.0-1ubuntu1~20.04) ...\n",
      "Setting up libitm1:amd64 (10.3.0-1ubuntu1~20.04) ...\n",
      "Setting up libtsan0:amd64 (10.3.0-1ubuntu1~20.04) ...\n",
      "Setting up libomp5-9:amd64 (1:9.0.1-12) ...\n",
      "Setting up libctf0:amd64 (2.34-6ubuntu1.3) ...\n",
      "Setting up libz3-dev:amd64 (4.8.7-4build1) ...\n",
      "Setting up llvm-9-tools (1:9.0.1-12) ...\n",
      "Setting up libclang-cpp9 (1:9.0.1-12) ...\n",
      "Setting up libgcc-9-dev:amd64 (9.4.0-1ubuntu1~20.04.1) ...\n",
      "Setting up lib32gcc-s1 (10.3.0-1ubuntu1~20.04) ...\n",
      "Setting up lib32stdc++6 (10.3.0-1ubuntu1~20.04) ...\n",
      "Setting up llvm-9-runtime (1:9.0.1-12) ...\n",
      "Setting up libobjc-9-dev:amd64 (9.4.0-1ubuntu1~20.04.1) ...\n",
      "Setting up libomp-9-dev (1:9.0.1-12) ...\n",
      "Setting up libclang-common-9-dev (1:9.0.1-12) ...\n",
      "Setting up libc6-dev:amd64 (2.31-0ubuntu9.9) ...\n",
      "Setting up binutils-x86-64-linux-gnu (2.34-6ubuntu1.3) ...\n",
      "Setting up libncurses-dev:amd64 (6.2-0ubuntu2) ...\n",
      "Setting up libstdc++-9-dev:amd64 (9.4.0-1ubuntu1~20.04.1) ...\n",
      "Setting up binutils (2.34-6ubuntu1.3) ...\n",
      "Setting up llvm-9 (1:9.0.1-12) ...\n",
      "Setting up libtinfo-dev:amd64 (6.2-0ubuntu2) ...\n",
      "Setting up clang-9 (1:9.0.1-12) ...\n",
      "Setting up llvm-9-dev (1:9.0.1-12) ...\n",
      "Processing triggers for systemd (245.4-4ubuntu3.15) ...\n",
      "Processing triggers for man-db (2.9.1-1) ...\n",
      "Processing triggers for install-info (6.7.0.dfsg.2-5) ...\n",
      "Processing triggers for libc-bin (2.31-0ubuntu9.7) ...\n"
     ]
    }
   ],
   "source": [
    "!sudo apt-get install clang-9 llvm-9 llvm-9-dev llvm-9-tools -y"
   ]
  },
  {
   "cell_type": "code",
   "execution_count": 32,
   "metadata": {
    "scrolled": true
   },
   "outputs": [
    {
     "ename": "SyntaxError",
     "evalue": "EOF while scanning triple-quoted string literal (1633289902.py, line 8)",
     "output_type": "error",
     "traceback": [
      "\u001b[0;36m  File \u001b[0;32m\"/tmp/ipykernel_557/1633289902.py\"\u001b[0;36m, line \u001b[0;32m8\u001b[0m\n\u001b[0;31m    print(out)\u001b[0m\n\u001b[0m              \n^\u001b[0m\n\u001b[0;31mSyntaxError\u001b[0m\u001b[0;31m:\u001b[0m EOF while scanning triple-quoted string literal\n"
     ]
    }
   ],
   "source": [
    "'''\n",
    "import subprocess\n",
    "import os\n",
    "\n",
    "os.environ[\"PATH\"] = os.environ[\"PATH\"]+\":/usr/local/cuda/bin/\" # adding this line\n",
    "proc = subprocess.Popen(\"nvcc\", stdout=subprocess.PIPE, stderr=subprocess.STDOUT)\n",
    "(out, _) = proc.communicate()\n",
    "print(out)\n",
    "'''"
   ]
  },
  {
   "cell_type": "code",
   "execution_count": 10,
   "metadata": {
    "colab": {
     "base_uri": "https://localhost:8080/"
    },
    "id": "Vn0fHQmpTPcF",
    "outputId": "64da96b8-fac0-458c-ac51-ba6a6907e98f"
   },
   "outputs": [
    {
     "name": "stdout",
     "output_type": "stream",
     "text": [
      "CUDA version: 10.1\n"
     ]
    }
   ],
   "source": [
    "import subprocess\n",
    "\n",
    "\n",
    "CUDA_version = [s for s in subprocess.check_output([\"nvcc\", \"--version\"]).decode(\"UTF-8\").split(\", \") if s.startswith(\"release\")][0].split(\" \")[-1]\n",
    "print(\"CUDA version:\", CUDA_version)\n",
    "\n",
    "if CUDA_version == \"10.0\":\n",
    "    torch_version_suffix = \"+cu100\"\n",
    "elif CUDA_version == \"10.1\":\n",
    "    torch_version_suffix = \"+cu101\"\n",
    "elif CUDA_version == \"10.2\":\n",
    "    torch_version_suffix = \"\"\n",
    "else:\n",
    "    torch_version_suffix = \"+cu110\""
   ]
  },
  {
   "cell_type": "markdown",
   "metadata": {
    "id": "Maf99CebV3oT"
   },
   "source": [
    "If code below doesn't work, check your cuda version and installation here https://pytorch.org/get-started/previous-versions/"
   ]
  },
  {
   "cell_type": "code",
   "execution_count": 11,
   "metadata": {
    "colab": {
     "base_uri": "https://localhost:8080/"
    },
    "id": "8uNRRWUaVQN0",
    "outputId": "b185765c-01bb-40ea-9381-9f93971c8bf2",
    "scrolled": true
   },
   "outputs": [
    {
     "name": "stdout",
     "output_type": "stream",
     "text": [
      "Looking in links: https://download.pytorch.org/whl/torch_stable.html\n",
      "Collecting torch==1.7.1+cu101\n",
      "  Downloading https://download.pytorch.org/whl/cu101/torch-1.7.1%2Bcu101-cp39-cp39-linux_x86_64.whl (735.4 MB)\n",
      "\u001b[K     |████████████████████████████████| 735.4 MB 8.1 kB/s eta 0:00:01   |▍                               | 8.7 MB 1.8 MB/s eta 0:06:50     |▊                               | 15.8 MB 2.0 MB/s eta 0:06:07     |█                               | 24.9 MB 1.8 MB/s eta 0:06:41     |█▏                              | 26.6 MB 1.7 MB/s eta 0:06:52     |█▍                              | 32.1 MB 1.8 MB/s eta 0:06:31     |██▉                             | 66.2 MB 1.8 MB/s eta 0:06:12     |███▎                            | 75.7 MB 1.3 MB/s eta 0:08:10     |████▍                           | 101.6 MB 1.9 MB/s eta 0:05:28     |█████                           | 116.2 MB 1.9 MB/s eta 0:05:26     |█████                           | 116.8 MB 1.9 MB/s eta 0:05:25     |█████▍                          | 122.8 MB 1.9 MB/s eta 0:05:21     |██████▍                         | 145.9 MB 1.7 MB/s eta 0:05:49     |███████                         | 163.3 MB 1.1 MB/s eta 0:08:20     |███████▋                        | 173.7 MB 2.6 MB/s eta 0:03:36     |████████                        | 181.4 MB 1.7 MB/s eta 0:05:19     |████████▊                       | 200.1 MB 192 kB/s eta 0:46:15     |███████████                     | 250.6 MB 2.1 MB/s eta 0:03:56     |███████████▎                    | 259.2 MB 1.4 MB/s eta 0:05:42     |████████████                    | 274.4 MB 1.9 MB/s eta 0:03:58     |████████████▍                   | 285.9 MB 1.7 MB/s eta 0:04:22     |████████████▋                   | 289.4 MB 1.5 MB/s eta 0:04:56     |████████████▊                   | 291.8 MB 1.8 MB/s eta 0:04:13     |██████████████▍                 | 330.1 MB 3.1 MB/s eta 0:02:11     |███████████████████▍            | 446.5 MB 1.7 MB/s eta 0:02:48     |████████████████████▉           | 479.9 MB 1.8 MB/s eta 0:02:25     |█████████████████████▋          | 496.8 MB 753 kB/s eta 0:05:17     |██████████████████████          | 507.5 MB 2.0 MB/s eta 0:01:56     |██████████████████████▍         | 514.7 MB 2.1 MB/s eta 0:01:46     |██████████████████████▌         | 517.2 MB 1.7 MB/s eta 0:02:10     |██████████████████████▌         | 517.3 MB 1.7 MB/s eta 0:02:10     |███████████████████████▏        | 531.5 MB 1.9 MB/s eta 0:01:46     |█████████████████████████       | 574.0 MB 1.8 MB/s eta 0:01:28     |█████████████████████████▊      | 589.9 MB 2.0 MB/s eta 0:01:12     |██████████████████████████▍     | 605.9 MB 1.7 MB/s eta 0:01:16     |███████████████████████████▌    | 632.0 MB 1.7 MB/s eta 0:01:01     |████████████████████████████    | 645.2 MB 3.7 MB/s eta 0:00:25     |█████████████████████████████▎  | 673.1 MB 2.3 MB/s eta 0:00:27     |██████████████████████████████  | 689.0 MB 2.0 MB/s eta 0:00:23     |██████████████████████████████▎ | 694.6 MB 1.7 MB/s eta 0:00:25     |██████████████████████████████▋ | 704.3 MB 2.1 MB/s eta 0:00:16     |██████████████████████████████▊ | 705.0 MB 2.1 MB/s eta 0:00:15\n",
      "\u001b[?25hCollecting torchvision==0.8.2+cu101\n",
      "  Downloading https://download.pytorch.org/whl/cu101/torchvision-0.8.2%2Bcu101-cp39-cp39-linux_x86_64.whl (12.7 MB)\n",
      "\u001b[K     |████████████████████████████████| 12.7 MB 1.8 MB/s eta 0:00:01\n",
      "\u001b[?25hCollecting torchaudio==0.7.2\n",
      "  Downloading torchaudio-0.7.2-cp39-cp39-manylinux1_x86_64.whl (7.6 MB)\n",
      "\u001b[K     |████████████████████████████████| 7.6 MB 391 kB/s eta 0:00:01     |██▊                             | 645 kB 395 kB/s eta 0:00:18     |████▉                           | 1.1 MB 373 kB/s eta 0:00:18\n",
      "\u001b[?25hRequirement already satisfied: typing-extensions in ./anaconda3/lib/python3.9/site-packages (from torch==1.7.1+cu101) (3.10.0.2)\n",
      "Requirement already satisfied: numpy in ./anaconda3/lib/python3.9/site-packages (from torch==1.7.1+cu101) (1.20.3)\n",
      "Requirement already satisfied: pillow>=4.1.1 in ./anaconda3/lib/python3.9/site-packages (from torchvision==0.8.2+cu101) (8.4.0)\n",
      "Installing collected packages: torch, torchvision, torchaudio\n",
      "Successfully installed torch-1.7.1+cu101 torchaudio-0.7.2 torchvision-0.8.2+cu101\n"
     ]
    }
   ],
   "source": [
    "!pip install torch==1.7.1{torch_version_suffix} torchvision==0.8.2{torch_version_suffix} torchaudio==0.7.2 -f https://download.pytorch.org/whl/torch_stable.html"
   ]
  },
  {
   "cell_type": "code",
   "execution_count": 12,
   "metadata": {
    "colab": {
     "base_uri": "https://localhost:8080/"
    },
    "id": "24zCgrZbAbjD",
    "outputId": "413eab78-0b61-4f69-815d-7ec112ef8ac5",
    "scrolled": true
   },
   "outputs": [
    {
     "name": "stdout",
     "output_type": "stream",
     "text": [
      "Collecting transformers==3.5.1\n",
      "  Downloading transformers-3.5.1-py3-none-any.whl (1.3 MB)\n",
      "\u001b[K     |████████████████████████████████| 1.3 MB 322 kB/s eta 0:00:01\n",
      "\u001b[?25hCollecting sacremoses\n",
      "  Downloading sacremoses-0.0.53.tar.gz (880 kB)\n",
      "\u001b[K     |████████████████████████████████| 880 kB 305 kB/s eta 0:00:01\n",
      "\u001b[?25hCollecting protobuf\n",
      "  Downloading protobuf-4.21.6-cp37-abi3-manylinux2014_x86_64.whl (408 kB)\n",
      "\u001b[K     |████████████████████████████████| 408 kB 229 kB/s eta 0:00:01\n",
      "\u001b[?25hRequirement already satisfied: packaging in ./anaconda3/lib/python3.9/site-packages (from transformers==3.5.1) (21.0)\n",
      "Requirement already satisfied: numpy in ./anaconda3/lib/python3.9/site-packages (from transformers==3.5.1) (1.20.3)\n",
      "Collecting tokenizers==0.9.3\n",
      "  Downloading tokenizers-0.9.3.tar.gz (172 kB)\n",
      "\u001b[K     |████████████████████████████████| 172 kB 188 kB/s eta 0:00:01\n",
      "\u001b[?25h  Installing build dependencies ... \u001b[?25ldone\n",
      "\u001b[?25h  Getting requirements to build wheel ... \u001b[?25ldone\n",
      "\u001b[?25h    Preparing wheel metadata ... \u001b[?25ldone\n",
      "\u001b[?25hRequirement already satisfied: requests in ./anaconda3/lib/python3.9/site-packages (from transformers==3.5.1) (2.26.0)\n",
      "Requirement already satisfied: tqdm>=4.27 in ./anaconda3/lib/python3.9/site-packages (from transformers==3.5.1) (4.62.3)\n",
      "Requirement already satisfied: regex!=2019.12.17 in ./anaconda3/lib/python3.9/site-packages (from transformers==3.5.1) (2021.8.3)\n",
      "Requirement already satisfied: filelock in ./anaconda3/lib/python3.9/site-packages (from transformers==3.5.1) (3.3.1)\n",
      "Collecting sentencepiece==0.1.91\n",
      "  Downloading sentencepiece-0.1.91.tar.gz (500 kB)\n",
      "\u001b[K     |████████████████████████████████| 500 kB 301 kB/s eta 0:00:01\n",
      "\u001b[31m    ERROR: Command errored out with exit status 1:\n",
      "     command: /home/richelieugvg/anaconda3/bin/python -c 'import io, os, sys, setuptools, tokenize; sys.argv[0] = '\"'\"'/tmp/pip-install-9ieszm7r/sentencepiece_cddb8c5ad2e64f7a93913b1172c09116/setup.py'\"'\"'; __file__='\"'\"'/tmp/pip-install-9ieszm7r/sentencepiece_cddb8c5ad2e64f7a93913b1172c09116/setup.py'\"'\"';f = getattr(tokenize, '\"'\"'open'\"'\"', open)(__file__) if os.path.exists(__file__) else io.StringIO('\"'\"'from setuptools import setup; setup()'\"'\"');code = f.read().replace('\"'\"'\\r\\n'\"'\"', '\"'\"'\\n'\"'\"');f.close();exec(compile(code, __file__, '\"'\"'exec'\"'\"'))' egg_info --egg-base /tmp/pip-pip-egg-info-dccyj5p6\n",
      "         cwd: /tmp/pip-install-9ieszm7r/sentencepiece_cddb8c5ad2e64f7a93913b1172c09116/\n",
      "    Complete output (2 lines):\n",
      "    /bin/sh: 1: pkg-config: not found\n",
      "    Failed to find sentencepiece pkgconfig\n",
      "    ----------------------------------------\u001b[0m\n",
      "\u001b[33mWARNING: Discarding https://files.pythonhosted.org/packages/ba/f6/520b56e5977f62aee48833da8b4ff2fdc2b10ebfa0dd78556b1d707d4086/sentencepiece-0.1.91.tar.gz#sha256=f9700cf607ea064d9fad34c751fbf49953dcc56fe68c54b277481aa0aec5c18f (from https://pypi.org/simple/sentencepiece/). Command errored out with exit status 1: python setup.py egg_info Check the logs for full command output.\u001b[0m\n",
      "\u001b[31mERROR: Could not find a version that satisfies the requirement sentencepiece==0.1.91 (from transformers) (from versions: 0.0.0, 0.0.2, 0.0.3, 0.0.4, 0.0.5, 0.0.6, 0.0.7, 0.0.9, 0.1.0, 0.1.1, 0.1.2, 0.1.3, 0.1.83, 0.1.86, 0.1.91, 0.1.92, 0.1.94, 0.1.95, 0.1.96, 0.1.97)\u001b[0m\n",
      "\u001b[31mERROR: No matching distribution found for sentencepiece==0.1.91\u001b[0m\n",
      "\u001b[?25h"
     ]
    }
   ],
   "source": [
    "!pip install transformers==3.5.1"
   ]
  },
  {
   "cell_type": "code",
   "execution_count": 14,
   "metadata": {
    "colab": {
     "base_uri": "https://localhost:8080/"
    },
    "id": "RSV1JFFf6nrt",
    "outputId": "80432247-4b3e-4ec7-c60f-58846d11eeb3"
   },
   "outputs": [
    {
     "name": "stdout",
     "output_type": "stream",
     "text": [
      "Cloning into 'ru-gpts'...\n",
      "remote: Enumerating objects: 686, done.\u001b[K\n",
      "remote: Counting objects: 100% (244/244), done.\u001b[K\n",
      "remote: Compressing objects: 100% (79/79), done.\u001b[K\n",
      "remote: Total 686 (delta 189), reused 165 (delta 165), pack-reused 442\u001b[K\n",
      "Receiving objects: 100% (686/686), 377.90 KiB | 1.25 MiB/s, done.\n",
      "Resolving deltas: 100% (427/427), done.\n"
     ]
    }
   ],
   "source": [
    "!git clone  https://github.com/sberbank-ai/ru-gpts"
   ]
  },
  {
   "cell_type": "code",
   "execution_count": 15,
   "metadata": {
    "colab": {
     "base_uri": "https://localhost:8080/"
    },
    "id": "WJZtWu8u6nwL",
    "outputId": "2383bb08-1eef-43c7-843a-132a3ff0d407"
   },
   "outputs": [],
   "source": [
    "mkdir models/"
   ]
  },
  {
   "cell_type": "code",
   "execution_count": 28,
   "metadata": {},
   "outputs": [
    {
     "name": "stdout",
     "output_type": "stream",
     "text": [
      "Collecting transformers\n",
      "  Using cached transformers-4.22.1-py3-none-any.whl (4.9 MB)\n",
      "Requirement already satisfied: regex!=2019.12.17 in ./anaconda3/lib/python3.9/site-packages (from transformers) (2021.8.3)\n",
      "Requirement already satisfied: tqdm>=4.27 in ./anaconda3/lib/python3.9/site-packages (from transformers) (4.62.3)\n",
      "Requirement already satisfied: pyyaml>=5.1 in ./anaconda3/lib/python3.9/site-packages (from transformers) (6.0)\n",
      "Requirement already satisfied: tokenizers!=0.11.3,<0.13,>=0.11.1 in ./anaconda3/lib/python3.9/site-packages (from transformers) (0.12.1)\n",
      "Requirement already satisfied: numpy>=1.17 in ./anaconda3/lib/python3.9/site-packages (from transformers) (1.20.3)\n",
      "Requirement already satisfied: huggingface-hub<1.0,>=0.9.0 in ./anaconda3/lib/python3.9/site-packages (from transformers) (0.9.1)\n",
      "Requirement already satisfied: filelock in ./anaconda3/lib/python3.9/site-packages (from transformers) (3.3.1)\n",
      "Requirement already satisfied: packaging>=20.0 in ./anaconda3/lib/python3.9/site-packages (from transformers) (21.0)\n",
      "Requirement already satisfied: requests in ./anaconda3/lib/python3.9/site-packages (from transformers) (2.26.0)\n",
      "Requirement already satisfied: typing-extensions>=3.7.4.3 in ./anaconda3/lib/python3.9/site-packages (from huggingface-hub<1.0,>=0.9.0->transformers) (3.10.0.2)\n",
      "Requirement already satisfied: pyparsing>=2.0.2 in ./anaconda3/lib/python3.9/site-packages (from packaging>=20.0->transformers) (3.0.4)\n",
      "Requirement already satisfied: certifi>=2017.4.17 in ./anaconda3/lib/python3.9/site-packages (from requests->transformers) (2021.10.8)\n",
      "Requirement already satisfied: charset-normalizer~=2.0.0 in ./anaconda3/lib/python3.9/site-packages (from requests->transformers) (2.0.4)\n",
      "Requirement already satisfied: urllib3<1.27,>=1.21.1 in ./anaconda3/lib/python3.9/site-packages (from requests->transformers) (1.26.7)\n",
      "Requirement already satisfied: idna<4,>=2.5 in ./anaconda3/lib/python3.9/site-packages (from requests->transformers) (3.2)\n",
      "Installing collected packages: transformers\n",
      "Successfully installed transformers-4.22.1\n"
     ]
    }
   ],
   "source": [
    "#!pip uninstall transformers -y\n",
    "!pip install transformers"
   ]
  },
  {
   "cell_type": "code",
   "execution_count": 19,
   "metadata": {
    "scrolled": true
   },
   "outputs": [
    {
     "name": "stdout",
     "output_type": "stream",
     "text": [
      "Collecting tensorboard\n",
      "  Downloading tensorboard-2.10.0-py3-none-any.whl (5.9 MB)\n",
      "\u001b[K     |████████████████████████████████| 5.9 MB 331 kB/s eta 0:00:01\n",
      "\u001b[?25hCollecting markdown>=2.6.8\n",
      "  Downloading Markdown-3.4.1-py3-none-any.whl (93 kB)\n",
      "\u001b[K     |████████████████████████████████| 93 kB 301 kB/s eta 0:00:01\n",
      "\u001b[?25hCollecting tensorboard-plugin-wit>=1.6.0\n",
      "  Downloading tensorboard_plugin_wit-1.8.1-py3-none-any.whl (781 kB)\n",
      "\u001b[K     |████████████████████████████████| 781 kB 291 kB/s eta 0:00:01\n",
      "\u001b[?25hCollecting google-auth-oauthlib<0.5,>=0.4.1\n",
      "  Downloading google_auth_oauthlib-0.4.6-py2.py3-none-any.whl (18 kB)\n",
      "Collecting protobuf<3.20,>=3.9.2\n",
      "  Downloading protobuf-3.19.5-cp39-cp39-manylinux_2_17_x86_64.manylinux2014_x86_64.whl (1.1 MB)\n",
      "\u001b[K     |████████████████████████████████| 1.1 MB 411 kB/s eta 0:00:01\n",
      "\u001b[?25hCollecting google-auth<3,>=1.6.3\n",
      "  Downloading google_auth-2.11.1-py2.py3-none-any.whl (167 kB)\n",
      "\u001b[K     |████████████████████████████████| 167 kB 357 kB/s eta 0:00:01\n",
      "\u001b[?25hRequirement already satisfied: wheel>=0.26 in ./anaconda3/lib/python3.9/site-packages (from tensorboard) (0.37.0)\n",
      "Requirement already satisfied: numpy>=1.12.0 in ./anaconda3/lib/python3.9/site-packages (from tensorboard) (1.20.3)\n",
      "Collecting absl-py>=0.4\n",
      "  Downloading absl_py-1.2.0-py3-none-any.whl (123 kB)\n",
      "\u001b[K     |████████████████████████████████| 123 kB 318 kB/s eta 0:00:01\n",
      "\u001b[?25hRequirement already satisfied: werkzeug>=1.0.1 in ./anaconda3/lib/python3.9/site-packages (from tensorboard) (2.0.2)\n",
      "Collecting grpcio>=1.24.3\n",
      "  Downloading grpcio-1.49.1-cp39-cp39-manylinux_2_17_x86_64.manylinux2014_x86_64.whl (4.7 MB)\n",
      "\u001b[K     |████████████████████████████████| 4.7 MB 345 kB/s eta 0:00:01\n",
      "\u001b[?25hRequirement already satisfied: requests<3,>=2.21.0 in ./anaconda3/lib/python3.9/site-packages (from tensorboard) (2.26.0)\n",
      "Collecting tensorboard-data-server<0.7.0,>=0.6.0\n",
      "  Downloading tensorboard_data_server-0.6.1-py3-none-manylinux2010_x86_64.whl (4.9 MB)\n",
      "\u001b[K     |████████████████████████████████| 4.9 MB 143 kB/s eta 0:00:01\n",
      "\u001b[?25hRequirement already satisfied: setuptools>=41.0.0 in ./anaconda3/lib/python3.9/site-packages (from tensorboard) (58.0.4)\n",
      "Collecting pyasn1-modules>=0.2.1\n",
      "  Downloading pyasn1_modules-0.2.8-py2.py3-none-any.whl (155 kB)\n",
      "\u001b[K     |████████████████████████████████| 155 kB 333 kB/s eta 0:00:01\n",
      "\u001b[?25hCollecting cachetools<6.0,>=2.0.0\n",
      "  Downloading cachetools-5.2.0-py3-none-any.whl (9.3 kB)\n",
      "Collecting rsa<5,>=3.1.4\n",
      "  Downloading rsa-4.9-py3-none-any.whl (34 kB)\n",
      "Requirement already satisfied: six>=1.9.0 in ./anaconda3/lib/python3.9/site-packages (from google-auth<3,>=1.6.3->tensorboard) (1.16.0)\n",
      "Collecting requests-oauthlib>=0.7.0\n",
      "  Downloading requests_oauthlib-1.3.1-py2.py3-none-any.whl (23 kB)\n",
      "Requirement already satisfied: importlib-metadata>=4.4 in ./anaconda3/lib/python3.9/site-packages (from markdown>=2.6.8->tensorboard) (4.8.1)\n",
      "Requirement already satisfied: zipp>=0.5 in ./anaconda3/lib/python3.9/site-packages (from importlib-metadata>=4.4->markdown>=2.6.8->tensorboard) (3.6.0)\n",
      "Collecting pyasn1<0.5.0,>=0.4.6\n",
      "  Downloading pyasn1-0.4.8-py2.py3-none-any.whl (77 kB)\n",
      "\u001b[K     |████████████████████████████████| 77 kB 396 kB/s eta 0:00:01\n",
      "\u001b[?25hRequirement already satisfied: idna<4,>=2.5 in ./anaconda3/lib/python3.9/site-packages (from requests<3,>=2.21.0->tensorboard) (3.2)\n",
      "Requirement already satisfied: charset-normalizer~=2.0.0 in ./anaconda3/lib/python3.9/site-packages (from requests<3,>=2.21.0->tensorboard) (2.0.4)\n",
      "Requirement already satisfied: certifi>=2017.4.17 in ./anaconda3/lib/python3.9/site-packages (from requests<3,>=2.21.0->tensorboard) (2021.10.8)\n",
      "Requirement already satisfied: urllib3<1.27,>=1.21.1 in ./anaconda3/lib/python3.9/site-packages (from requests<3,>=2.21.0->tensorboard) (1.26.7)\n",
      "Collecting oauthlib>=3.0.0\n",
      "  Downloading oauthlib-3.2.1-py3-none-any.whl (151 kB)\n",
      "\u001b[K     |████████████████████████████████| 151 kB 334 kB/s eta 0:00:01\n",
      "\u001b[?25hInstalling collected packages: pyasn1, rsa, pyasn1-modules, oauthlib, cachetools, requests-oauthlib, google-auth, tensorboard-plugin-wit, tensorboard-data-server, protobuf, markdown, grpcio, google-auth-oauthlib, absl-py, tensorboard\n",
      "Successfully installed absl-py-1.2.0 cachetools-5.2.0 google-auth-2.11.1 google-auth-oauthlib-0.4.6 grpcio-1.49.1 markdown-3.4.1 oauthlib-3.2.1 protobuf-3.19.5 pyasn1-0.4.8 pyasn1-modules-0.2.8 requests-oauthlib-1.3.1 rsa-4.9 tensorboard-2.10.0 tensorboard-data-server-0.6.1 tensorboard-plugin-wit-1.8.1\n"
     ]
    }
   ],
   "source": [
    "!pip install tensorboard"
   ]
  },
  {
   "cell_type": "markdown",
   "metadata": {
    "id": "WqwZiumW8WbZ"
   },
   "source": [
    "## Download files"
   ]
  },
  {
   "cell_type": "markdown",
   "metadata": {
    "id": "zoyX62qN_38l"
   },
   "source": [
    "## Train \n",
    "The following code download our model and tokenizer from huggingface and finetune model for generating essays.\n",
    "\n",
    "This took aroung ten minutes and obtain perplexity = 13-16"
   ]
  },
  {
   "cell_type": "code",
   "execution_count": 31,
   "metadata": {
    "colab": {
     "base_uri": "https://localhost:8080/",
     "height": 130
    },
    "id": "aZ-4Kav28cH0",
    "outputId": "7e647199-ebfc-4f96-cb6c-111e81e3f9ce"
   },
   "outputs": [
    {
     "name": "stdout",
     "output_type": "stream",
     "text": [
      "09/22/2022 18:51:16 - WARNING - __main__ -   Process rank: -1, device: cpu, n_gpu: 0, distributed training: False, 16-bits training: False\n",
      "Downloading: 100%|██████████████████████████████| 608/608 [00:00<00:00, 875kB/s]\n",
      "Downloading: 100%|█████████████████████████| 1.71M/1.71M [00:01<00:00, 1.68MB/s]\n",
      "Downloading: 100%|██████████████████████████| 1.27M/1.27M [00:04<00:00, 316kB/s]\n",
      "Special tokens have been added in the vocabulary, make sure the associated word embeddings are fine-tuned or trained.\n",
      "/home/richelieugvg/anaconda3/lib/python3.9/site-packages/transformers/models/auto/modeling_auto.py:1062: FutureWarning: The class `AutoModelWithLMHead` is deprecated and will be removed in a future version. Please use `AutoModelForCausalLM` for causal language models, `AutoModelForMaskedLM` for masked language models and `AutoModelForSeq2SeqLM` for encoder-decoder models.\n",
      "  warnings.warn(\n",
      "Downloading: 100%|███████████████████████████| 551M/551M [04:46<00:00, 1.92MB/s]\n",
      "09/22/2022 18:56:18 - INFO - __main__ -   Training/evaluation parameters Namespace(train_data_file='train.txt', output_dir='models/essays', model_type='gpt2', eval_data_file='valid.txt', line_by_line=False, should_continue=False, model_name_or_path='sberbank-ai/rugpt3small_based_on_gpt2', mlm=False, mlm_probability=0.15, config_name=None, tokenizer_name=None, cache_dir=None, block_size=2048, do_train=True, do_eval=True, evaluate_during_training=False, per_gpu_train_batch_size=1, per_gpu_eval_batch_size=4, gradient_accumulation_steps=1, learning_rate=5e-05, weight_decay=0.01, adam_epsilon=1e-08, max_grad_norm=1.0, num_train_epochs=5.0, max_steps=-1, warmup_steps=0, logging_steps=500, save_steps=500, save_total_limit=None, eval_all_checkpoints=False, no_cuda=False, overwrite_output_dir=True, overwrite_cache=False, seed=42, fp16=False, fp16_opt_level='O1', local_rank=-1, server_ip='', server_port='', n_gpu=0, device=device(type='cpu'))\n",
      "09/22/2022 18:56:18 - INFO - __main__ -   Creating features from dataset file at \n",
      "09/22/2022 18:56:19 - INFO - __main__ -   Saving features into cached file gpt2_cached_lm_2048_train.txt\n",
      "/home/richelieugvg/anaconda3/lib/python3.9/site-packages/transformers/optimization.py:306: FutureWarning: This implementation of AdamW is deprecated and will be removed in a future version. Use the PyTorch implementation torch.optim.AdamW instead, or set `no_deprecation_warning=True` to disable this warning\n",
      "  warnings.warn(\n",
      "09/22/2022 18:56:20 - INFO - __main__ -   ***** Running training *****\n",
      "09/22/2022 18:56:20 - INFO - __main__ -     Num examples = 109\n",
      "09/22/2022 18:56:20 - INFO - __main__ -     Num Epochs = 5\n",
      "09/22/2022 18:56:20 - INFO - __main__ -     Instantaneous batch size per GPU = 1\n",
      "09/22/2022 18:56:20 - INFO - __main__ -     Total train batch size (w. parallel, distributed & accumulation) = 1\n",
      "09/22/2022 18:56:20 - INFO - __main__ -     Gradient Accumulation steps = 1\n",
      "09/22/2022 18:56:20 - INFO - __main__ -     Total optimization steps = 545\n",
      "Epoch:   0%|                                              | 0/5 [00:00<?, ?it/s]\n",
      "Iteration:   0%|                                        | 0/109 [00:00<?, ?it/s]\u001b[A\n",
      "Iteration:   1%|▎                             | 1/109 [01:12<2:10:39, 72.59s/it]\u001b[A\n",
      "Iteration:   2%|▌                             | 2/109 [02:25<2:10:16, 73.05s/it]\u001b[A\n",
      "Iteration:   3%|▊                             | 3/109 [03:33<2:04:57, 70.73s/it]\u001b[A\n",
      "Iteration:   4%|█                             | 4/109 [04:37<1:59:06, 68.06s/it]\u001b[A\n",
      "Iteration:   5%|█▍                            | 5/109 [05:42<1:55:51, 66.84s/it]\u001b[A\n",
      "Iteration:   6%|█▋                            | 6/109 [06:55<1:58:25, 68.99s/it]\u001b[A\n",
      "Iteration:   6%|█▉                            | 7/109 [08:08<1:59:13, 70.13s/it]\u001b[A^C\n"
     ]
    }
   ],
   "source": [
    "!export PYTHONPATH=${PYTHONPATH}:/ru-gpts/\n",
    "!CUDA_VISIBLE_DEVICES=0 python pretrain_transformers.py \\\n",
    "    --output_dir=models/essays \\\n",
    "    --model_type=gpt2 \\\n",
    "    --model_name_or_path=sberbank-ai/rugpt3small_based_on_gpt2 \\\n",
    "    --do_train \\\n",
    "    --train_data_file=train.txt \\\n",
    "    --do_eval \\\n",
    "    --eval_data_file=valid.txt \\\n",
    "    --per_gpu_train_batch_size 1 \\\n",
    "    --gradient_accumulation_steps 1 \\\n",
    "    --num_train_epochs 5 \\\n",
    "    --block_size 2048 \\\n",
    "    --overwrite_output_dir"
   ]
  },
  {
   "cell_type": "markdown",
   "metadata": {
    "id": "QvgntLymArg3"
   },
   "source": [
    "## Evaluate model\n",
    "### Generate with generate_transformers.py script."
   ]
  },
  {
   "cell_type": "code",
   "execution_count": null,
   "metadata": {
    "colab": {
     "base_uri": "https://localhost:8080/"
    },
    "id": "qYnswPyr9CVw",
    "outputId": "8c0cc220-3902-4749-a5b0-0257a2301359"
   },
   "outputs": [],
   "source": [
    "!python ru-gpts/generate_transformers.py \\\n",
    "    --model_type=gpt2 \\\n",
    "    --model_name_or_path=models/essays \\\n",
    "    --k=5 \\\n",
    "    --p=0.95 \\\n",
    "    --length=500 \\\n",
    "    --repetition_penalty=5"
   ]
  },
  {
   "cell_type": "markdown",
   "metadata": {
    "id": "K7_jIWhVBKay"
   },
   "source": [
    "### Generate mannualy"
   ]
  },
  {
   "cell_type": "code",
   "execution_count": null,
   "metadata": {
    "id": "csHcDJXFDdaW"
   },
   "outputs": [],
   "source": [
    "import numpy as np\n",
    "import torch"
   ]
  },
  {
   "cell_type": "code",
   "execution_count": null,
   "metadata": {
    "id": "TJxPg-cJDhAB"
   },
   "outputs": [],
   "source": [
    "np.random.seed(42)\n",
    "torch.manual_seed(42)"
   ]
  },
  {
   "cell_type": "code",
   "execution_count": null,
   "metadata": {
    "id": "AkUrzKsy_16F"
   },
   "outputs": [],
   "source": [
    "from transformers import GPT2LMHeadModel, GPT2Tokenizer"
   ]
  },
  {
   "cell_type": "code",
   "execution_count": null,
   "metadata": {
    "id": "x_EMbgO0BTvb"
   },
   "outputs": [],
   "source": [
    "tok = GPT2Tokenizer.from_pretrained(\"models/essays\")"
   ]
  },
  {
   "cell_type": "code",
   "execution_count": null,
   "metadata": {
    "id": "Fjy0GAuQBYpA"
   },
   "outputs": [],
   "source": [
    "model = GPT2LMHeadModel.from_pretrained(\"models/essays\")"
   ]
  },
  {
   "cell_type": "code",
   "execution_count": null,
   "metadata": {
    "id": "irh4H-HDBb6V"
   },
   "outputs": [],
   "source": [
    "model.cuda()"
   ]
  },
  {
   "cell_type": "code",
   "execution_count": null,
   "metadata": {
    "id": "hQY6A5q7Bd4O"
   },
   "outputs": [],
   "source": [
    "text = \"вход: А что вы, батенька, делали намедни?\\nвыход: \"\n",
    "inpt = tok.encode(text, return_tensors=\"pt\")"
   ]
  },
  {
   "cell_type": "code",
   "execution_count": null,
   "metadata": {
    "id": "1gfJFmeOBj_t"
   },
   "outputs": [],
   "source": [
    "out = model.generate(inpt.cuda(), max_length=500, repetition_penalty=5.0, do_sample=True, top_k=5, top_p=0.95, temperature=1)"
   ]
  },
  {
   "cell_type": "code",
   "execution_count": null,
   "metadata": {
    "colab": {
     "base_uri": "https://localhost:8080/",
     "height": 392
    },
    "id": "gWZ9SUCxB2Ki",
    "outputId": "55055988-87f5-4ce4-817d-9224a10b9d58"
   },
   "outputs": [
    {
     "data": {
      "application/vnd.google.colaboratory.intrinsic+json": {
       "type": "string"
      },
      "text/plain": [
       "'<s>Тема: «Создает человека природа, но развивает и образует его общество». (В.Т. Белинский)\\nСочинение: _Эссе №1«Цель общества есть удовлетворение потребностей» — девиз философов всех времен ной поры («Мы должны стремиться к счастью»). И действительно цели разные бывают у обществ – это потребности удовлетворения естественных влечений или же социально-бытовые нужды; удовлетворены ли эти желания достигнуты благодаря деятельности людей - другой вопрос… В обществе господствует биологическая потребность в наслаждении жизнью(Ж.- Жорес), а социальная связана с потреблением материальных благ для существования.</SOCTERN’Я полностью согласна со высказыванием Акакия Львовича Толстого о том,что цель любого государства состоит не только во власти народа над государством. Но главной целью является само государство! Именно оно определяет жизнь страны как стабильную систему правовых отношений между людьми без принуждения властей.(АП РФ). Я считаю что Толстой прав по этому поводу.. Действительно человек может удовлетворить свои естественные инстинкты при помощи определенных средств лишь тогда когда он будет действовать соответствующим образом... Например если ему дать молоко то животное станет человеком Если человеку нравится играть на бильярде играя за деньги других участников рынка значит этот конкретный игрок играет свою игру согласно своим интересам Он сам выбирает правила игры Каждый из нас живет своей обычной человеческой жизнедеятельностью поэтому я думаю смысл жизни каждого можно выразить так : Жить интересами большинства граждан ради блага всего человечества!!!\"Лермонтов П., 1830г.)Мне понравились слова Леру де Монтескье про долголетие человеческого рода до глубокой старости потому чтО все люди смертныНо мне кажется они очень справедливыИ главное отличие этих высказываний от общепринятых мнений заключается еще вот чем.... Человек никогда заранее знать ничего НЕможет тк обладает какими либо сверх способностями Так было уже много раз доказано наукой Это доказывает закон природы Разрушительные силы возникают вокруг того кто наносит вред природе Они приводят ее ко зловещим последствиям Природа создает всё больше новых врагов Люди становятся рабами Природу невозможно сломать силой обстоятельствЛюди творят зло Неравенство приводит их порой даже друг другуНапример войнаВойна делает нашу планету непригодной Для проживания Людей существуют различные методы борьбы С ними сталкиваются Человеческий организм способен самовоспроизводитьсяРазвитие человеческих способностей происходит постоянно Поэтому необходимо всегда сохранять бдительностьНеобходимо поддерживать высокий уровень культуры населения Чтобы наши дети были здоровыми На протяжении всей истории развитие знаний способствовало появлению различных теорий развития Все новое открывает большие возможностиДля совершенствования своего мастерства мы изобретаем средства познания новые Ученые открывают неизвестные науке химические вещества Благодаря им улучшается качество продуктов питания Таким людям удается познавать окружающее Мироздание развивается По мере усложнения окружающего мира совершенствуются условия жизнедеятельности человеческий разум приспосабливается Мировоззрение меняетсяПодлинная причина несчастья кроется преждевременноЧеловечество обречено жить после глобальной катастрофыКаждый член цивилизованного сообщества должен решить одну проблемуМассы действуют сообщаЧтобы массы смогли сплотить единый фронт чтобы уничтожить противника нужно объединить усилияНаличие политической волиКонечно нельзя добиться равен'"
      ]
     },
     "execution_count": 36,
     "metadata": {
      "tags": []
     },
     "output_type": "execute_result"
    }
   ],
   "source": [
    "tok.decode(out[0])"
   ]
  }
 ],
 "metadata": {
  "accelerator": "GPU",
  "colab": {
   "collapsed_sections": [],
   "provenance": []
  },
  "kernelspec": {
   "display_name": "Python 3 (ipykernel)",
   "language": "python",
   "name": "python3"
  },
  "language_info": {
   "codemirror_mode": {
    "name": "ipython",
    "version": 3
   },
   "file_extension": ".py",
   "mimetype": "text/x-python",
   "name": "python",
   "nbconvert_exporter": "python",
   "pygments_lexer": "ipython3",
   "version": "3.9.7"
  }
 },
 "nbformat": 4,
 "nbformat_minor": 1
}
